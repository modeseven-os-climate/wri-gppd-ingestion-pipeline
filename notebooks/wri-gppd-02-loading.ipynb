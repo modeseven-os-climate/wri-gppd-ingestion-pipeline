{
 "cells": [
  {
   "cell_type": "markdown",
   "id": "f3f25610-ad0f-4740-b898-a9e0fcd53aa2",
   "metadata": {},
   "source": [
    "# WRI Global Power Plant Database Ingestion Pipeline: Step 2 - Data Loading\n",
    "Copyright (C) 2021 OS-Climate\n",
    "\n",
    "This notebook covers the second step of the pipeline:\n",
    "* Load versioned source data from Pachyderm\n",
    "* Get data into a dataframe \n",
    "* Create a Trino client and load the data\n",
    "\n",
    "Permission is hereby granted, free of charge, to any person obtaining a copy of this software and associated documentation files (the \"Software\"), to deal in the Software without restriction, including without limitation the rights to use, copy, modify, merge, publish, distribute, sublicense, and/or sell copies of the Software, and to permit persons to whom the Software is furnished to do so, subject to the following conditions:\n",
    "\n",
    "The above copyright notice and this permission notice shall be included in all copies or substantial portions of the Software.\n",
    "\n",
    "THE SOFTWARE IS PROVIDED \"AS IS\", WITHOUT WARRANTY OF ANY KIND, EXPRESS OR IMPLIED, INCLUDING BUT NOT LIMITED TO THE WARRANTIES OF MERCHANTABILITY, FITNESS FOR A PARTICULAR PURPOSE AND NONINFRINGEMENT. IN NO EVENT SHALL THE AUTHORS OR COPYRIGHT HOLDERS BE LIABLE FOR ANY CLAIM, DAMAGES OR OTHER LIABILITY, WHETHER IN AN ACTION OF CONTRACT, TORT OR OTHERWISE, ARISING FROM, OUT OF OR IN CONNECTION WITH THE SOFTWARE OR THE USE OR OTHER DEALINGS IN THE SOFTWARE."
   ]
  },
  {
   "cell_type": "code",
   "execution_count": 1,
   "id": "12ea025c-b859-4e57-88a0-30d48d42302b",
   "metadata": {},
   "outputs": [],
   "source": [
    "%%capture pipoutput\n",
    "\n",
    "# For loading predefined environment variables from files\n",
    "# Typically used to load sensitive access credentials\n",
    "%pip install python-dotenv\n",
    "\n",
    "# Interacting with Trino and using Trino with sqlalchemy\n",
    "%pip install trino sqlalchemy sqlalchemy-trino\n",
    "\n",
    "# Pandas and pyarrow\n",
    "%pip install pandas\n",
    "%pip install pyarrow\n",
    "\n",
    "# OS-Climate utilities to make data ingest easier\n",
    "%pip install osc-ingest-tools\n",
    "\n",
    "# Python client for Pachyderm\n",
    "%pip install python_pachyderm"
   ]
  },
  {
   "cell_type": "code",
   "execution_count": 2,
   "id": "3fcc12b1-067c-4eb7-bd7f-63aa8c3b0667",
   "metadata": {},
   "outputs": [
    {
     "name": "stdout",
     "output_type": "stream",
     "text": [
      "Exception reporting mode: Minimal\n"
     ]
    }
   ],
   "source": [
    "# Report exceptions only in cells output\n",
    "%xmode Minimal"
   ]
  },
  {
   "cell_type": "code",
   "execution_count": 3,
   "id": "161992e0-45da-4912-b91e-f97b0030e4ab",
   "metadata": {},
   "outputs": [],
   "source": [
    "from dotenv import dotenv_values, load_dotenv\n",
    "import os\n",
    "import pathlib\n",
    "import pandas as pd\n",
    "import trino\n",
    "from sqlalchemy.engine import create_engine\n",
    "import osc_ingest_trino as osc\n",
    "import python_pachyderm"
   ]
  },
  {
   "cell_type": "markdown",
   "id": "8e8e8b69-6f29-4f3c-b05d-8ee2e780ea9f",
   "metadata": {},
   "source": [
    "Define Environment and Execution Variables"
   ]
  },
  {
   "cell_type": "code",
   "execution_count": 4,
   "id": "1e785101-ad84-4382-a725-8bb0c1280ed8",
   "metadata": {},
   "outputs": [],
   "source": [
    "# Load environment variables from credentials.env\n",
    "osc.load_credentials_dotenv()"
   ]
  },
  {
   "cell_type": "markdown",
   "id": "deae859a-20d9-479f-b331-90502842e193",
   "metadata": {},
   "source": [
    "Connect to Pachyderm service using the Python client, retrieve the data from ingested file and load into a dataframe"
   ]
  },
  {
   "cell_type": "code",
   "execution_count": 5,
   "id": "1200fa03-5a23-405e-826c-d8f69065ce12",
   "metadata": {},
   "outputs": [],
   "source": [
    "# Create a pachyderm client by manually setting up host and port\n",
    "client = python_pachyderm.Client(os.environ['PACH_ENDPOINT'], os.environ['PACH_PORT'])"
   ]
  },
  {
   "cell_type": "code",
   "execution_count": 6,
   "id": "660dac53-a872-4c62-be59-6593f359388d",
   "metadata": {},
   "outputs": [],
   "source": [
    "# Verify the csv file can be read\n",
    "f = client.get_file((\"wri-gppd\", \"master\"), \"/global_power_plant_database_v_1_3/global_power_plant_database.csv\")\n",
    "df_gppd = pd.read_csv(f, low_memory=False).convert_dtypes()"
   ]
  },
  {
   "cell_type": "code",
   "execution_count": 7,
   "id": "e6087e48-070f-4a4e-ad5a-2c147f7c57f0",
   "metadata": {},
   "outputs": [
    {
     "name": "stdout",
     "output_type": "stream",
     "text": [
      "<class 'pandas.core.frame.DataFrame'>\n",
      "RangeIndex: 34936 entries, 0 to 34935\n",
      "Data columns (total 36 columns):\n",
      " #   Column                          Non-Null Count  Dtype  \n",
      "---  ------                          --------------  -----  \n",
      " 0   country                         34936 non-null  string \n",
      " 1   country_long                    34936 non-null  string \n",
      " 2   name                            34936 non-null  string \n",
      " 3   gppd_idnr                       34936 non-null  string \n",
      " 4   capacity_mw                     34936 non-null  Float64\n",
      " 5   latitude                        34936 non-null  Float64\n",
      " 6   longitude                       34936 non-null  Float64\n",
      " 7   primary_fuel                    34936 non-null  string \n",
      " 8   other_fuel1                     1944 non-null   string \n",
      " 9   other_fuel2                     276 non-null    string \n",
      " 10  other_fuel3                     92 non-null     string \n",
      " 11  commissioning_year              17447 non-null  Float64\n",
      " 12  owner                           20868 non-null  string \n",
      " 13  source                          34921 non-null  string \n",
      " 14  url                             34918 non-null  string \n",
      " 15  geolocation_source              34517 non-null  string \n",
      " 16  wepp_id                         16234 non-null  string \n",
      " 17  year_of_capacity_data           14887 non-null  Int64  \n",
      " 18  generation_gwh_2013             6417 non-null   Float64\n",
      " 19  generation_gwh_2014             7226 non-null   Float64\n",
      " 20  generation_gwh_2015             8203 non-null   Float64\n",
      " 21  generation_gwh_2016             9144 non-null   Float64\n",
      " 22  generation_gwh_2017             9500 non-null   Float64\n",
      " 23  generation_gwh_2018             9637 non-null   Float64\n",
      " 24  generation_gwh_2019             9659 non-null   Float64\n",
      " 25  generation_data_source          11400 non-null  string \n",
      " 26  estimated_generation_gwh_2013   16120 non-null  Float64\n",
      " 27  estimated_generation_gwh_2014   16503 non-null  Float64\n",
      " 28  estimated_generation_gwh_2015   17050 non-null  Float64\n",
      " 29  estimated_generation_gwh_2016   17570 non-null  Float64\n",
      " 30  estimated_generation_gwh_2017   33138 non-null  Float64\n",
      " 31  estimated_generation_note_2013  34936 non-null  string \n",
      " 32  estimated_generation_note_2014  34936 non-null  string \n",
      " 33  estimated_generation_note_2015  34936 non-null  string \n",
      " 34  estimated_generation_note_2016  34936 non-null  string \n",
      " 35  estimated_generation_note_2017  34936 non-null  string \n",
      "dtypes: Float64(16), Int64(1), string(19)\n",
      "memory usage: 10.2 MB\n",
      "None\n"
     ]
    }
   ],
   "source": [
    "print(df_gppd.info(verbose=True))"
   ]
  },
  {
   "cell_type": "code",
   "execution_count": 8,
   "id": "9a014d4a-09dc-498b-ba6e-f675c5ef2050",
   "metadata": {},
   "outputs": [
    {
     "data": {
      "text/html": [
       "<div>\n",
       "<style scoped>\n",
       "    .dataframe tbody tr th:only-of-type {\n",
       "        vertical-align: middle;\n",
       "    }\n",
       "\n",
       "    .dataframe tbody tr th {\n",
       "        vertical-align: top;\n",
       "    }\n",
       "\n",
       "    .dataframe thead th {\n",
       "        text-align: right;\n",
       "    }\n",
       "</style>\n",
       "<table border=\"1\" class=\"dataframe\">\n",
       "  <thead>\n",
       "    <tr style=\"text-align: right;\">\n",
       "      <th></th>\n",
       "      <th>country</th>\n",
       "      <th>country_long</th>\n",
       "      <th>name</th>\n",
       "      <th>gppd_idnr</th>\n",
       "      <th>capacity_mw</th>\n",
       "      <th>latitude</th>\n",
       "      <th>longitude</th>\n",
       "      <th>primary_fuel</th>\n",
       "      <th>other_fuel1</th>\n",
       "      <th>other_fuel2</th>\n",
       "      <th>...</th>\n",
       "      <th>estimated_generation_gwh_2013</th>\n",
       "      <th>estimated_generation_gwh_2014</th>\n",
       "      <th>estimated_generation_gwh_2015</th>\n",
       "      <th>estimated_generation_gwh_2016</th>\n",
       "      <th>estimated_generation_gwh_2017</th>\n",
       "      <th>estimated_generation_note_2013</th>\n",
       "      <th>estimated_generation_note_2014</th>\n",
       "      <th>estimated_generation_note_2015</th>\n",
       "      <th>estimated_generation_note_2016</th>\n",
       "      <th>estimated_generation_note_2017</th>\n",
       "    </tr>\n",
       "  </thead>\n",
       "  <tbody>\n",
       "    <tr>\n",
       "      <th>0</th>\n",
       "      <td>AFG</td>\n",
       "      <td>Afghanistan</td>\n",
       "      <td>Kajaki Hydroelectric Power Plant Afghanistan</td>\n",
       "      <td>GEODB0040538</td>\n",
       "      <td>33.0</td>\n",
       "      <td>32.322</td>\n",
       "      <td>65.119</td>\n",
       "      <td>Hydro</td>\n",
       "      <td>&lt;NA&gt;</td>\n",
       "      <td>&lt;NA&gt;</td>\n",
       "      <td>...</td>\n",
       "      <td>123.77</td>\n",
       "      <td>162.9</td>\n",
       "      <td>97.39</td>\n",
       "      <td>137.76</td>\n",
       "      <td>119.5</td>\n",
       "      <td>HYDRO-V1</td>\n",
       "      <td>HYDRO-V1</td>\n",
       "      <td>HYDRO-V1</td>\n",
       "      <td>HYDRO-V1</td>\n",
       "      <td>HYDRO-V1</td>\n",
       "    </tr>\n",
       "    <tr>\n",
       "      <th>1</th>\n",
       "      <td>AFG</td>\n",
       "      <td>Afghanistan</td>\n",
       "      <td>Kandahar DOG</td>\n",
       "      <td>WKS0070144</td>\n",
       "      <td>10.0</td>\n",
       "      <td>31.67</td>\n",
       "      <td>65.795</td>\n",
       "      <td>Solar</td>\n",
       "      <td>&lt;NA&gt;</td>\n",
       "      <td>&lt;NA&gt;</td>\n",
       "      <td>...</td>\n",
       "      <td>18.43</td>\n",
       "      <td>17.48</td>\n",
       "      <td>18.25</td>\n",
       "      <td>17.7</td>\n",
       "      <td>18.29</td>\n",
       "      <td>SOLAR-V1-NO-AGE</td>\n",
       "      <td>SOLAR-V1-NO-AGE</td>\n",
       "      <td>SOLAR-V1-NO-AGE</td>\n",
       "      <td>SOLAR-V1-NO-AGE</td>\n",
       "      <td>SOLAR-V1-NO-AGE</td>\n",
       "    </tr>\n",
       "    <tr>\n",
       "      <th>2</th>\n",
       "      <td>AFG</td>\n",
       "      <td>Afghanistan</td>\n",
       "      <td>Kandahar JOL</td>\n",
       "      <td>WKS0071196</td>\n",
       "      <td>10.0</td>\n",
       "      <td>31.623</td>\n",
       "      <td>65.792</td>\n",
       "      <td>Solar</td>\n",
       "      <td>&lt;NA&gt;</td>\n",
       "      <td>&lt;NA&gt;</td>\n",
       "      <td>...</td>\n",
       "      <td>18.64</td>\n",
       "      <td>17.58</td>\n",
       "      <td>19.1</td>\n",
       "      <td>17.62</td>\n",
       "      <td>18.72</td>\n",
       "      <td>SOLAR-V1-NO-AGE</td>\n",
       "      <td>SOLAR-V1-NO-AGE</td>\n",
       "      <td>SOLAR-V1-NO-AGE</td>\n",
       "      <td>SOLAR-V1-NO-AGE</td>\n",
       "      <td>SOLAR-V1-NO-AGE</td>\n",
       "    </tr>\n",
       "    <tr>\n",
       "      <th>3</th>\n",
       "      <td>AFG</td>\n",
       "      <td>Afghanistan</td>\n",
       "      <td>Mahipar Hydroelectric Power Plant Afghanistan</td>\n",
       "      <td>GEODB0040541</td>\n",
       "      <td>66.0</td>\n",
       "      <td>34.556</td>\n",
       "      <td>69.4787</td>\n",
       "      <td>Hydro</td>\n",
       "      <td>&lt;NA&gt;</td>\n",
       "      <td>&lt;NA&gt;</td>\n",
       "      <td>...</td>\n",
       "      <td>225.06</td>\n",
       "      <td>203.55</td>\n",
       "      <td>146.9</td>\n",
       "      <td>230.18</td>\n",
       "      <td>174.91</td>\n",
       "      <td>HYDRO-V1</td>\n",
       "      <td>HYDRO-V1</td>\n",
       "      <td>HYDRO-V1</td>\n",
       "      <td>HYDRO-V1</td>\n",
       "      <td>HYDRO-V1</td>\n",
       "    </tr>\n",
       "    <tr>\n",
       "      <th>4</th>\n",
       "      <td>AFG</td>\n",
       "      <td>Afghanistan</td>\n",
       "      <td>Naghlu Dam Hydroelectric Power Plant Afghanistan</td>\n",
       "      <td>GEODB0040534</td>\n",
       "      <td>100.0</td>\n",
       "      <td>34.641</td>\n",
       "      <td>69.717</td>\n",
       "      <td>Hydro</td>\n",
       "      <td>&lt;NA&gt;</td>\n",
       "      <td>&lt;NA&gt;</td>\n",
       "      <td>...</td>\n",
       "      <td>406.16</td>\n",
       "      <td>357.22</td>\n",
       "      <td>270.99</td>\n",
       "      <td>395.38</td>\n",
       "      <td>350.8</td>\n",
       "      <td>HYDRO-V1</td>\n",
       "      <td>HYDRO-V1</td>\n",
       "      <td>HYDRO-V1</td>\n",
       "      <td>HYDRO-V1</td>\n",
       "      <td>HYDRO-V1</td>\n",
       "    </tr>\n",
       "  </tbody>\n",
       "</table>\n",
       "<p>5 rows × 36 columns</p>\n",
       "</div>"
      ],
      "text/plain": [
       "  country country_long                                              name  \\\n",
       "0     AFG  Afghanistan      Kajaki Hydroelectric Power Plant Afghanistan   \n",
       "1     AFG  Afghanistan                                      Kandahar DOG   \n",
       "2     AFG  Afghanistan                                      Kandahar JOL   \n",
       "3     AFG  Afghanistan     Mahipar Hydroelectric Power Plant Afghanistan   \n",
       "4     AFG  Afghanistan  Naghlu Dam Hydroelectric Power Plant Afghanistan   \n",
       "\n",
       "      gppd_idnr  capacity_mw  latitude  longitude primary_fuel other_fuel1  \\\n",
       "0  GEODB0040538         33.0    32.322     65.119        Hydro        <NA>   \n",
       "1    WKS0070144         10.0     31.67     65.795        Solar        <NA>   \n",
       "2    WKS0071196         10.0    31.623     65.792        Solar        <NA>   \n",
       "3  GEODB0040541         66.0    34.556    69.4787        Hydro        <NA>   \n",
       "4  GEODB0040534        100.0    34.641     69.717        Hydro        <NA>   \n",
       "\n",
       "  other_fuel2  ... estimated_generation_gwh_2013  \\\n",
       "0        <NA>  ...                        123.77   \n",
       "1        <NA>  ...                         18.43   \n",
       "2        <NA>  ...                         18.64   \n",
       "3        <NA>  ...                        225.06   \n",
       "4        <NA>  ...                        406.16   \n",
       "\n",
       "   estimated_generation_gwh_2014 estimated_generation_gwh_2015  \\\n",
       "0                          162.9                         97.39   \n",
       "1                          17.48                         18.25   \n",
       "2                          17.58                          19.1   \n",
       "3                         203.55                         146.9   \n",
       "4                         357.22                        270.99   \n",
       "\n",
       "  estimated_generation_gwh_2016 estimated_generation_gwh_2017  \\\n",
       "0                        137.76                         119.5   \n",
       "1                          17.7                         18.29   \n",
       "2                         17.62                         18.72   \n",
       "3                        230.18                        174.91   \n",
       "4                        395.38                         350.8   \n",
       "\n",
       "  estimated_generation_note_2013 estimated_generation_note_2014  \\\n",
       "0                       HYDRO-V1                       HYDRO-V1   \n",
       "1                SOLAR-V1-NO-AGE                SOLAR-V1-NO-AGE   \n",
       "2                SOLAR-V1-NO-AGE                SOLAR-V1-NO-AGE   \n",
       "3                       HYDRO-V1                       HYDRO-V1   \n",
       "4                       HYDRO-V1                       HYDRO-V1   \n",
       "\n",
       "   estimated_generation_note_2015  estimated_generation_note_2016  \\\n",
       "0                        HYDRO-V1                        HYDRO-V1   \n",
       "1                 SOLAR-V1-NO-AGE                 SOLAR-V1-NO-AGE   \n",
       "2                 SOLAR-V1-NO-AGE                 SOLAR-V1-NO-AGE   \n",
       "3                        HYDRO-V1                        HYDRO-V1   \n",
       "4                        HYDRO-V1                        HYDRO-V1   \n",
       "\n",
       "   estimated_generation_note_2017  \n",
       "0                        HYDRO-V1  \n",
       "1                 SOLAR-V1-NO-AGE  \n",
       "2                 SOLAR-V1-NO-AGE  \n",
       "3                        HYDRO-V1  \n",
       "4                        HYDRO-V1  \n",
       "\n",
       "[5 rows x 36 columns]"
      ]
     },
     "execution_count": 8,
     "metadata": {},
     "output_type": "execute_result"
    }
   ],
   "source": [
    "df_gppd.head()"
   ]
  },
  {
   "cell_type": "markdown",
   "id": "3de49f3a-d729-4af4-9edc-224fc7356ea9",
   "metadata": {},
   "source": [
    "Connect to Trino and load the data"
   ]
  },
  {
   "cell_type": "code",
   "execution_count": 9,
   "id": "edc9ff36-00e0-47b2-87e3-1c908e72facd",
   "metadata": {},
   "outputs": [],
   "source": [
    "# Define execution variables for loading to Iceberg / Trino\n",
    "ingest_catalog = 'osc_datacommons_dev'\n",
    "ingest_schema = 'sandbox'\n",
    "ingest_table = 'gppd'"
   ]
  },
  {
   "cell_type": "code",
   "execution_count": 10,
   "id": "9a6e4160-86fb-4107-a01f-fa2213c3091b",
   "metadata": {},
   "outputs": [
    {
     "name": "stdout",
     "output_type": "stream",
     "text": [
      "using connect string: trino://caldeirav@trino-secure-odh-trino.apps.odh-cl2.apps.os-climate.org:443/osc_datacommons_dev\n"
     ]
    }
   ],
   "source": [
    "engine = osc.attach_trino_engine(verbose=True, catalog=ingest_catalog)"
   ]
  },
  {
   "cell_type": "code",
   "execution_count": 11,
   "id": "2cb4b34d-6f8d-4758-9420-8767c77e2d12",
   "metadata": {},
   "outputs": [
    {
     "name": "stdout",
     "output_type": "stream",
     "text": [
      "[('default',), ('demo_dv',), ('iceberg_demo',), ('information_schema',), ('mdt_sandbox',), ('pcaf_sovereign_footprint',), ('sandbox',)]\n"
     ]
    }
   ],
   "source": [
    "# Show available schemas to ensure trino connection is set correctly\n",
    "schema_show_sql = f\"\"\"\n",
    "show schemas in {ingest_catalog}\n",
    "\"\"\"\n",
    "schema_show = engine.execute(schema_show_sql)\n",
    "print(schema_show.fetchall())"
   ]
  },
  {
   "cell_type": "markdown",
   "id": "fa681a70-4775-4609-b95e-1423813c3321",
   "metadata": {},
   "source": [
    "Create target table"
   ]
  },
  {
   "cell_type": "code",
   "execution_count": 12,
   "id": "d8b6b66c-d11a-4754-b61b-077bac7d1f74",
   "metadata": {},
   "outputs": [
    {
     "name": "stdout",
     "output_type": "stream",
     "text": [
      "[(True,)]\n"
     ]
    }
   ],
   "source": [
    "# Drop table if exists in case we run the pipeline multiple times\n",
    "sql=f\"\"\"\n",
    "drop table if exists {ingest_catalog}.{ingest_schema}.{ingest_table}\n",
    "\"\"\"\n",
    "qres = engine.execute(sql)\n",
    "print(qres.fetchall())"
   ]
  },
  {
   "cell_type": "code",
   "execution_count": 13,
   "id": "c9058867-4a87-4e50-8081-5b5f337dc740",
   "metadata": {},
   "outputs": [
    {
     "name": "stdout",
     "output_type": "stream",
     "text": [
      "\n",
      "create table if not exists osc_datacommons_dev.sandbox.gppd(\n",
      "    country varchar,\n",
      "    country_long varchar,\n",
      "    name varchar,\n",
      "    gppd_idnr varchar,\n",
      "    capacity_mw double,\n",
      "    latitude double,\n",
      "    longitude double,\n",
      "    primary_fuel varchar,\n",
      "    other_fuel1 varchar,\n",
      "    other_fuel2 varchar,\n",
      "    other_fuel3 varchar,\n",
      "    commissioning_year double,\n",
      "    owner varchar,\n",
      "    source varchar,\n",
      "    url varchar,\n",
      "    geolocation_source varchar,\n",
      "    wepp_id varchar,\n",
      "    year_of_capacity_data bigint,\n",
      "    generation_gwh_2013 double,\n",
      "    generation_gwh_2014 double,\n",
      "    generation_gwh_2015 double,\n",
      "    generation_gwh_2016 double,\n",
      "    generation_gwh_2017 double,\n",
      "    generation_gwh_2018 double,\n",
      "    generation_gwh_2019 double,\n",
      "    generation_data_source varchar,\n",
      "    estimated_generation_gwh_2013 double,\n",
      "    estimated_generation_gwh_2014 double,\n",
      "    estimated_generation_gwh_2015 double,\n",
      "    estimated_generation_gwh_2016 double,\n",
      "    estimated_generation_gwh_2017 double,\n",
      "    estimated_generation_note_2013 varchar,\n",
      "    estimated_generation_note_2014 varchar,\n",
      "    estimated_generation_note_2015 varchar,\n",
      "    estimated_generation_note_2016 varchar,\n",
      "    estimated_generation_note_2017 varchar\n",
      ") with (\n",
      "    format = 'ORC',\n",
      "    partitioning = array['country']\n",
      ")\n",
      "\n"
     ]
    }
   ],
   "source": [
    "# Create table definition and create table query\n",
    "columnschema = osc.create_table_schema_pairs(df_gppd)\n",
    "tabledef = f\"\"\"\n",
    "create table if not exists {ingest_catalog}.{ingest_schema}.{ingest_table}(\n",
    "{columnschema}\n",
    ") with (\n",
    "    format = 'ORC',\n",
    "    partitioning = array['country']\n",
    ")\n",
    "\"\"\"\n",
    "print(tabledef)"
   ]
  },
  {
   "cell_type": "code",
   "execution_count": 14,
   "id": "ea9c433a-5dc3-4eca-8fd6-58eed033558f",
   "metadata": {},
   "outputs": [
    {
     "name": "stdout",
     "output_type": "stream",
     "text": [
      "[(True,)]\n"
     ]
    }
   ],
   "source": [
    "# Execute table creation if the table does not exist\n",
    "qres = engine.execute(tabledef)\n",
    "print(qres.fetchall())"
   ]
  },
  {
   "cell_type": "code",
   "execution_count": 15,
   "id": "ad235bff-0117-484c-9ee7-0d1e0556eb5c",
   "metadata": {},
   "outputs": [],
   "source": [
    "# Filter the dataframe to one country in order to fasten the demo\n",
    "df_gppd = df_gppd[df_gppd.isin(['France']).any(axis=1)]"
   ]
  },
  {
   "cell_type": "code",
   "execution_count": 16,
   "id": "731eb9eb-91e6-4af4-ac39-e0b64a93a76e",
   "metadata": {},
   "outputs": [],
   "source": [
    "# Insert the dataframe data in batches of 100\n",
    "df_gppd.to_sql(ingest_table,\n",
    "           con=engine,\n",
    "           schema=ingest_schema,\n",
    "           if_exists='append',\n",
    "           index=False,\n",
    "           method=osc.TrinoBatchInsert(batch_size = 100, verbose = False))"
   ]
  },
  {
   "cell_type": "code",
   "execution_count": null,
   "id": "a09c7e4c-70a8-4ea1-a3cb-bec9b7dfc175",
   "metadata": {},
   "outputs": [],
   "source": []
  },
  {
   "cell_type": "code",
   "execution_count": null,
   "id": "c412e4dc-c834-4ab2-818d-61f509ea7994",
   "metadata": {},
   "outputs": [],
   "source": []
  }
 ],
 "metadata": {
  "kernelspec": {
   "display_name": "Python 3 (ipykernel)",
   "language": "python",
   "name": "python3"
  },
  "language_info": {
   "codemirror_mode": {
    "name": "ipython",
    "version": 3
   },
   "file_extension": ".py",
   "mimetype": "text/x-python",
   "name": "python",
   "nbconvert_exporter": "python",
   "pygments_lexer": "ipython3",
   "version": "3.8.8"
  }
 },
 "nbformat": 4,
 "nbformat_minor": 5
}
